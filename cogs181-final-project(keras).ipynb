{
 "cells": [
  {
   "cell_type": "code",
   "execution_count": 1,
   "metadata": {
    "colab": {
     "autoexec": {
      "startup": false,
      "wait_interval": 0
     }
    },
    "colab_type": "code",
    "id": "u_Omdz29WRhk"
   },
   "outputs": [],
   "source": [
    "# No need to donwload datasets, its already in /dataset/Tiny-ImageNet/tiny-imagenet-200/\n",
    "# !cd /tmp; wget --quiet http://pages.ucsd.edu/~ztu/courses/tiny-imagenet-200.zip\n",
    "# !cd /tmp; unzip -qq tiny-imagenet-200.zip; rm tiny-imagenet-200.zip"
   ]
  },
  {
   "cell_type": "code",
   "execution_count": 1,
   "metadata": {
    "colab": {
     "autoexec": {
      "startup": false,
      "wait_interval": 0
     },
     "base_uri": "https://localhost:8080/",
     "height": 34,
     "output_extras": [
      {
       "item_id": 1
      }
     ]
    },
    "colab_type": "code",
    "executionInfo": {
     "elapsed": 1576,
     "status": "ok",
     "timestamp": 1513193938319,
     "user": {
      "displayName": "Tony Lim",
      "photoUrl": "//lh3.googleusercontent.com/-DO9616bnct4/AAAAAAAAAAI/AAAAAAAADOc/rjhjTHF-kxU/s50-c-k-no/photo.jpg",
      "userId": "100029816334508670274"
     },
     "user_tz": 480
    },
    "id": "p6hBmQGSWRht",
    "outputId": "8d4bc282-bff7-4f70-8b57-a3f8fc8299c5"
   },
   "outputs": [
    {
     "name": "stderr",
     "output_type": "stream",
     "text": [
      "Using TensorFlow backend.\n"
     ]
    }
   ],
   "source": [
    "from __future__ import print_function\n",
    "import keras\n",
    "from keras.datasets import cifar10\n",
    "from keras.preprocessing.image import ImageDataGenerator, array_to_img, img_to_array, load_img\n",
    "from keras.models import Sequential\n",
    "from keras.layers import Dense, Dropout, Activation, Flatten\n",
    "from keras.layers import Conv2D, MaxPooling2D, BatchNormalization\n",
    "from keras.layers import Convolution2D, MaxPooling2D, ZeroPadding2D\n",
    "from keras.optimizers import SGD\n",
    "from keras import optimizers\n",
    "import os\n",
    "import math\n",
    "import numpy as np\n",
    "import scipy\n",
    "import random\n",
    "from PIL import Image\n",
    "import json\n",
    "from matplotlib import pyplot as plt\n",
    "from pandas import Series, DataFrame\n",
    "import datetime"
   ]
  },
  {
   "cell_type": "markdown",
   "metadata": {},
   "source": [
    "## Setting up paths"
   ]
  },
  {
   "cell_type": "code",
   "execution_count": 2,
   "metadata": {},
   "outputs": [],
   "source": [
    "import glob\n",
    "\n",
    "# path = \"/tmp/tiny-imagenet-200/\"\n",
    "path = \"/datasets/Tiny-ImageNet/tiny-imagenet-200/\"\n",
    "train_dirs = glob.glob(path + \"train/*\")\n",
    "val_dirs   = glob.glob(path + \"val/*\")\n",
    "test_dirs  = glob.glob(path + \"test/*\")\n",
    "\n",
    "n_samples  = 100000\n",
    "used_labels =  [ d[-9:] for d in train_dirs ]     # There are only 200 used labels in both training and validation\n",
    "len(used_labels)\n",
    "\n",
    "from sklearn.preprocessing import LabelBinarizer # Hot-Encode Labels\n",
    "bin_encoder = LabelBinarizer()\n",
    "bin_encoder.fit_transform(used_labels).size\n",
    "\n",
    "def get_image(img_path):                         # Helper Functions\n",
    "    img = img_to_array(load_img(img_path))\n",
    "    return img / 255.0\n",
    "\n",
    "def get_images(paths):\n",
    "    n = len(paths)\n",
    "    X = np.empty(shape=(n, 64,64,3))\n",
    "    for i,p in enumerate(paths):\n",
    "        X[i, ...] = get_image(p)\n",
    "    return X\n",
    "\n",
    "def shuffle(*args):\n",
    "    fusion = list(zip(*args))\n",
    "    np.random.shuffle(fusion)\n",
    "    return zip(*fusion)\n",
    "    \n",
    "def plot_history(history, model_path, title):\n",
    "    # Get training and test loss histories\n",
    "    training_loss = history.history['loss']\n",
    "    val_loss     = history.history['val_loss']\n",
    "    training_acc  = history.history['acc']\n",
    "    val_acc       = history.history['val_acc']\n",
    "\n",
    "    # Create count of the number of epochs\n",
    "    epoch_count = range(1, len(training_loss) + 1)\n",
    "\n",
    "    # Visualize loss history\n",
    "    f, (ax1, ax2) = plt.subplots(1, 2, figsize=(14,5))\n",
    "\n",
    "    ax1.plot(epoch_count, training_loss, 'r--')\n",
    "    ax1.plot(epoch_count, val_loss, 'b-')\n",
    "    ax1.legend(['Training Loss', 'Validation Loss'])\n",
    "    ax1.set_xlabel('Epoch')\n",
    "    ax1.set_ylabel('Loss')\n",
    "\n",
    "    ax2.plot(epoch_count, training_acc, 'r--')\n",
    "    ax2.plot(epoch_count, val_acc, 'b-')\n",
    "    ax2.legend(['Training Acc', 'Validation Acc'])\n",
    "    ax2.set_xlabel('Epoch')\n",
    "    ax2.set_ylabel('Accuracy')\n",
    "    plt.title(title, loc='right')\n",
    "    f.savefig(model_path + '.png')\n",
    "    plt.show()\n",
    "    \n",
    "def get_model_memory_usage(batch_size, model):\n",
    "    import numpy as np\n",
    "    from keras import backend as K\n",
    "\n",
    "    shapes_mem_count = 0\n",
    "    for l in model.layers:\n",
    "        single_layer_mem = 1\n",
    "        for s in l.output_shape:\n",
    "            if s is None:\n",
    "                continue\n",
    "            single_layer_mem *= s\n",
    "        shapes_mem_count += single_layer_mem\n",
    "\n",
    "    trainable_count = np.sum([K.count_params(p) for p in set(model.trainable_weights)])\n",
    "    non_trainable_count = np.sum([K.count_params(p) for p in set(model.non_trainable_weights)])\n",
    "\n",
    "    total_memory = 4.0*batch_size*(shapes_mem_count + trainable_count + non_trainable_count)\n",
    "    gbytes = np.round(total_memory / (1024.0 ** 3), 3)\n",
    "    return gbytes"
   ]
  },
  {
   "cell_type": "markdown",
   "metadata": {},
   "source": [
    "# Getting All Data"
   ]
  },
  {
   "cell_type": "code",
   "execution_count": 4,
   "metadata": {},
   "outputs": [
    {
     "name": "stdout",
     "output_type": "stream",
     "text": [
      "100000 (100000, 200)\n",
      "(10000, 64, 64, 3) (10000, 200)\n"
     ]
    }
   ],
   "source": [
    "## Getting Training Data\n",
    "\n",
    "train_data_paths, train_labels = [],[]\n",
    "train_images = np.empty(shape=(n_samples, 64, 64, 3))\n",
    "\n",
    "for class_path in train_dirs:\n",
    "    class_name = class_path[-9:]\n",
    "    images = glob.glob(class_path + '/images/*')\n",
    "    for image_path in images:\n",
    "        train_labels    .append( class_name )\n",
    "        train_data_paths.append( image_path )\n",
    "        \n",
    "train_labels, train_data_paths = shuffle(train_labels, train_data_paths)\n",
    "train_labels = bin_encoder.transform(train_labels) # hot-encode labels from string to number\n",
    "for i,img_path in enumerate(train_data_paths):     # Load images\n",
    "    img = get_image(img_path)\n",
    "    train_images[i, ...] = img\n",
    "print(len(train_data_paths), train_labels.shape)   # sanity check\n",
    "\n",
    "## Getting Validation Data\n",
    "val_labels, val_images_paths = [], []\n",
    "for line in open(path + 'val/val_annotations.txt'):\n",
    "    [fn, classname, _ , _, _, _ ] = line.strip().split('\\t')\n",
    "    val_images_paths.append(path +'val/images/' + fn )\n",
    "    val_labels.append(classname)                   # 10K images probably fit in RAM\n",
    "\n",
    "val_labels = bin_encoder.transform(val_labels)    # hot-encode labels from string to number\n",
    "val_images = get_images(val_images_paths)         # use helper function to get all images\n",
    "print(val_images.shape, val_labels.shape)         # sanity check"
   ]
  },
  {
   "cell_type": "markdown",
   "metadata": {},
   "source": [
    "### Preparing Model (Change Parameters Manually)"
   ]
  },
  {
   "cell_type": "code",
   "execution_count": 6,
   "metadata": {},
   "outputs": [],
   "source": [
    "# from kernet import resnet\n",
    "# from vgg16_keras import VGG_16\n",
    "\n",
    "def add_conv_layer(model, activation, channel_size=16, filter_size=3, input_shape=None, batch_normalization=False):\n",
    "    if input_shape:\n",
    "        model.add(Conv2D(channel_size,\n",
    "                         (filter_size,filter_size),\n",
    "                         padding='same',\n",
    "                         input_shape=input_shape))\n",
    "    else:\n",
    "        model.add(Conv2D(channel_size, (filter_size,filter_size), padding='same',))\n",
    "    if batch_normalization:\n",
    "        model.add(BatchNormalization())\n",
    "    model.add(Activation(conv_layer_activation))\n",
    "    model.add(MaxPooling2D(pool_size=(2, 2)))"
   ]
  },
  {
   "cell_type": "code",
   "execution_count": 8,
   "metadata": {
    "colab": {
     "autoexec": {
      "startup": false,
      "wait_interval": 0
     },
     "output_extras": [
      {}
     ]
    },
    "colab_type": "code",
    "id": "Q6xDt95_WRiZ",
    "outputId": "db093ce7-207a-432b-f3d1-71d8f8bd9526"
   },
   "outputs": [
    {
     "name": "stdout",
     "output_type": "stream",
     "text": [
      "_________________________________________________________________\n",
      "Layer (type)                 Output Shape              Param #   \n",
      "=================================================================\n",
      "conv2d_7 (Conv2D)            (None, 64, 64, 16)        448       \n",
      "_________________________________________________________________\n",
      "activation_10 (Activation)   (None, 64, 64, 16)        0         \n",
      "_________________________________________________________________\n",
      "max_pooling2d_7 (MaxPooling2 (None, 32, 32, 16)        0         \n",
      "_________________________________________________________________\n",
      "conv2d_8 (Conv2D)            (None, 32, 32, 16)        2320      \n",
      "_________________________________________________________________\n",
      "batch_normalization_6 (Batch (None, 32, 32, 16)        64        \n",
      "_________________________________________________________________\n",
      "activation_11 (Activation)   (None, 32, 32, 16)        0         \n",
      "_________________________________________________________________\n",
      "max_pooling2d_8 (MaxPooling2 (None, 16, 16, 16)        0         \n",
      "_________________________________________________________________\n",
      "conv2d_9 (Conv2D)            (None, 16, 16, 16)        2320      \n",
      "_________________________________________________________________\n",
      "batch_normalization_7 (Batch (None, 16, 16, 16)        64        \n",
      "_________________________________________________________________\n",
      "activation_12 (Activation)   (None, 16, 16, 16)        0         \n",
      "_________________________________________________________________\n",
      "max_pooling2d_9 (MaxPooling2 (None, 8, 8, 16)          0         \n",
      "_________________________________________________________________\n",
      "conv2d_10 (Conv2D)           (None, 8, 8, 32)          4640      \n",
      "_________________________________________________________________\n",
      "batch_normalization_8 (Batch (None, 8, 8, 32)          128       \n",
      "_________________________________________________________________\n",
      "activation_13 (Activation)   (None, 8, 8, 32)          0         \n",
      "_________________________________________________________________\n",
      "max_pooling2d_10 (MaxPooling (None, 4, 4, 32)          0         \n",
      "_________________________________________________________________\n",
      "conv2d_11 (Conv2D)           (None, 4, 4, 32)          9248      \n",
      "_________________________________________________________________\n",
      "batch_normalization_9 (Batch (None, 4, 4, 32)          128       \n",
      "_________________________________________________________________\n",
      "activation_14 (Activation)   (None, 4, 4, 32)          0         \n",
      "_________________________________________________________________\n",
      "max_pooling2d_11 (MaxPooling (None, 2, 2, 32)          0         \n",
      "_________________________________________________________________\n",
      "conv2d_12 (Conv2D)           (None, 2, 2, 64)          18496     \n",
      "_________________________________________________________________\n",
      "batch_normalization_10 (Batc (None, 2, 2, 64)          256       \n",
      "_________________________________________________________________\n",
      "activation_15 (Activation)   (None, 2, 2, 64)          0         \n",
      "_________________________________________________________________\n",
      "max_pooling2d_12 (MaxPooling (None, 1, 1, 64)          0         \n",
      "_________________________________________________________________\n",
      "flatten_2 (Flatten)          (None, 64)                0         \n",
      "_________________________________________________________________\n",
      "dense_4 (Dense)              (None, 1024)              66560     \n",
      "_________________________________________________________________\n",
      "batch_normalization_11 (Batc (None, 1024)              4096      \n",
      "_________________________________________________________________\n",
      "activation_16 (Activation)   (None, 1024)              0         \n",
      "_________________________________________________________________\n",
      "dropout_3 (Dropout)          (None, 1024)              0         \n",
      "_________________________________________________________________\n",
      "dense_5 (Dense)              (None, 512)               524800    \n",
      "_________________________________________________________________\n",
      "batch_normalization_12 (Batc (None, 512)               2048      \n",
      "_________________________________________________________________\n",
      "activation_17 (Activation)   (None, 512)               0         \n",
      "_________________________________________________________________\n",
      "dropout_4 (Dropout)          (None, 512)               0         \n",
      "_________________________________________________________________\n",
      "dense_6 (Dense)              (None, 200)               102600    \n",
      "_________________________________________________________________\n",
      "activation_18 (Activation)   (None, 200)               0         \n",
      "=================================================================\n",
      "Total params: 738,216\n",
      "Trainable params: 734,824\n",
      "Non-trainable params: 3,392\n",
      "_________________________________________________________________\n"
     ]
    },
    {
     "data": {
      "text/plain": [
       "None"
      ]
     },
     "metadata": {},
     "output_type": "display_data"
    }
   ],
   "source": [
    "n_classes  = 200\n",
    "model = Sequential()\n",
    "\n",
    "filter_size = 3    # originally, it was 3\n",
    "conv_layer_activation = 'relu'  # by default, its relu\n",
    "\n",
    "add_conv_layer(model, conv_layer_activation, 16, filter_size, (64,64,3)) # conv1\n",
    "add_conv_layer(model, conv_layer_activation, 16, filter_size, batch_normalization=True) # conv2\n",
    "add_conv_layer(model, conv_layer_activation, 16, filter_size, batch_normalization=True) # conv2-extra\n",
    "add_conv_layer(model, conv_layer_activation, 32, filter_size, batch_normalization=True) # conv3\n",
    "add_conv_layer(model, conv_layer_activation, 32, filter_size, batch_normalization=True) # conv4\n",
    "add_conv_layer(model, conv_layer_activation, 64, filter_size, batch_normalization=True) # conv5\n",
    "\n",
    "model.add(Flatten())\n",
    "\n",
    "# fc1\n",
    "model.add(Dense(1024))\n",
    "model.add(BatchNormalization())\n",
    "model.add(Activation('relu'))\n",
    "model.add(Dropout(0.4))\n",
    "\n",
    "# fc1-extra\n",
    "model.add(Dense(512))\n",
    "model.add(BatchNormalization())\n",
    "model.add(Activation('relu'))\n",
    "model.add(Dropout(0.4))\n",
    "\n",
    "# fc2\n",
    "model.add(Dense(n_classes))\n",
    "model.add(Activation('softmax'))\n",
    "\n",
    "# del model; model = resnet.ResnetBuilder.build((3, 64, 64), 200, 'basic_block', [2, 2, 2, 2])\n",
    "# del model; model = VGG_16()\n",
    "\n",
    "# optz = SGD(lr=0.01, momentum=0.9)                                                     # default\n",
    "# optz = SGD(lr=0.01, momentum=0.9, nesterov=True)\n",
    "# optz = optimizers.RMSprop(lr=0.001, rho=0.9, epsilon=1e-08, decay=0.0)                # https://keras.io/optimizers/\n",
    "# optz = optimizers.Adagrad(lr=0.01, epsilon=1e-08, decay=0.0)\n",
    "optz = optimizers.Adam(lr=0.001, beta_1=0.9, beta_2=0.999, epsilon=1e-08, decay=0.0)\n",
    "model.compile(loss='categorical_crossentropy', optimizer=optz, metrics=['accuracy'])\n",
    "\n",
    "layer_counts = Series([ c['class_name'] for c in model.get_config()]).value_counts()    # layer counts\n",
    "display(model.summary())"
   ]
  },
  {
   "cell_type": "code",
   "execution_count": 19,
   "metadata": {},
   "outputs": [
    {
     "name": "stdout",
     "output_type": "stream",
     "text": [
      "memory usage : 0.462 GB\n"
     ]
    },
    {
     "data": {
      "text/plain": [
       "'Major Tweaks #2(10+30+50+50) (activation:relu, opt:Adam, filter_size:3, Conv2D_counts:6, FC_counts:3)'"
      ]
     },
     "execution_count": 19,
     "metadata": {},
     "output_type": "execute_result"
    }
   ],
   "source": [
    "# Settings\n",
    "epochs = 50\n",
    "batch_size = 128\n",
    "optz_name = str(optz.__class__)[25:-2]\n",
    "experiement_config = {\n",
    "    'epochs': epochs, 'batch_size': 128, 'activation': conv_layer_activation, 'optimizer': optz_name, \n",
    "}\n",
    "\n",
    "print('memory usage : {} GB'.format(get_model_memory_usage(batch_size=batch_size, model=model)))\n",
    "note  = 'Major Tweaks #2(10+30+50+50) (activation:{}, opt:{}, filter_size:{}, Conv2D_counts:{}, FC_counts:{})'.format(\n",
    "    conv_layer_activation, optz_name, filter_size, layer_counts['Conv2D'], layer_counts['Dense']\n",
    ")\n",
    "note"
   ]
  },
  {
   "cell_type": "code",
   "execution_count": null,
   "metadata": {},
   "outputs": [
    {
     "name": "stdout",
     "output_type": "stream",
     "text": [
      "Train on 100000 samples, validate on 10000 samples\n",
      "Epoch 1/50\n",
      "100000/100000 [==============================] - 98s - loss: 2.2858 - acc: 0.4189 - val_loss: 3.0753 - val_acc: 0.3052\n",
      "Epoch 2/50\n",
      "100000/100000 [==============================] - 104s - loss: 2.2827 - acc: 0.4182 - val_loss: 3.1716 - val_acc: 0.2904\n",
      "Epoch 3/50\n",
      "100000/100000 [==============================] - 99s - loss: 2.2784 - acc: 0.4182 - val_loss: 3.0678 - val_acc: 0.3058\n",
      "Epoch 4/50\n",
      "100000/100000 [==============================] - 100s - loss: 2.2680 - acc: 0.4202 - val_loss: 3.0146 - val_acc: 0.3155\n",
      "Epoch 5/50\n",
      "100000/100000 [==============================] - 98s - loss: 2.2713 - acc: 0.4175 - val_loss: 3.1038 - val_acc: 0.3038\n",
      "Epoch 6/50\n",
      "100000/100000 [==============================] - 92s - loss: 2.2686 - acc: 0.4183 - val_loss: 3.2072 - val_acc: 0.2866\n",
      "Epoch 7/50\n",
      "100000/100000 [==============================] - 99s - loss: 2.2618 - acc: 0.4198 - val_loss: 3.0633 - val_acc: 0.3135\n",
      "Epoch 8/50\n",
      "100000/100000 [==============================] - 93s - loss: 2.2571 - acc: 0.4199 - val_loss: 3.1134 - val_acc: 0.3073\n",
      "Epoch 9/50\n",
      "100000/100000 [==============================] - 96s - loss: 2.2582 - acc: 0.4214 - val_loss: 3.2555 - val_acc: 0.2900\n",
      "Epoch 10/50\n",
      "100000/100000 [==============================] - 91s - loss: 2.2543 - acc: 0.4216 - val_loss: 3.1569 - val_acc: 0.2925\n",
      "Epoch 11/50\n",
      "100000/100000 [==============================] - 97s - loss: 2.2568 - acc: 0.4214 - val_loss: 3.3798 - val_acc: 0.2673\n",
      "Epoch 12/50\n",
      "100000/100000 [==============================] - 95s - loss: 2.2448 - acc: 0.4233 - val_loss: 3.1070 - val_acc: 0.3009\n",
      "Epoch 13/50\n",
      "100000/100000 [==============================] - 96s - loss: 2.2428 - acc: 0.4218 - val_loss: 3.0681 - val_acc: 0.3098\n",
      "Epoch 14/50\n",
      "100000/100000 [==============================] - 90s - loss: 2.2381 - acc: 0.4247 - val_loss: 3.0673 - val_acc: 0.3106\n",
      "Epoch 15/50\n",
      "100000/100000 [==============================] - 92s - loss: 2.2355 - acc: 0.4244 - val_loss: 3.1246 - val_acc: 0.3010\n",
      "Epoch 16/50\n",
      "100000/100000 [==============================] - 94s - loss: 2.2302 - acc: 0.4269 - val_loss: 3.0857 - val_acc: 0.3075\n",
      "Epoch 17/50\n",
      "100000/100000 [==============================] - 92s - loss: 2.2284 - acc: 0.4259 - val_loss: 3.1242 - val_acc: 0.2986\n",
      "Epoch 18/50\n",
      "100000/100000 [==============================] - 95s - loss: 2.2291 - acc: 0.4262 - val_loss: 3.1063 - val_acc: 0.3086\n",
      "Epoch 19/50\n",
      "100000/100000 [==============================] - 92s - loss: 2.2205 - acc: 0.4296 - val_loss: 3.1077 - val_acc: 0.3032\n",
      "Epoch 20/50\n",
      "100000/100000 [==============================] - 91s - loss: 2.2188 - acc: 0.4274 - val_loss: 3.0304 - val_acc: 0.3097\n",
      "Epoch 21/50\n",
      "100000/100000 [==============================] - 98s - loss: 2.2152 - acc: 0.4292 - val_loss: 3.0793 - val_acc: 0.3098\n",
      "Epoch 22/50\n",
      "100000/100000 [==============================] - 95s - loss: 2.2173 - acc: 0.4266 - val_loss: 3.1096 - val_acc: 0.3032\n",
      "Epoch 23/50\n",
      "100000/100000 [==============================] - 98s - loss: 2.2122 - acc: 0.4296 - val_loss: 3.0944 - val_acc: 0.3088\n",
      "Epoch 24/50\n",
      "100000/100000 [==============================] - 97s - loss: 2.2081 - acc: 0.4306 - val_loss: 3.1314 - val_acc: 0.2966\n",
      "Epoch 25/50\n",
      "100000/100000 [==============================] - 98s - loss: 2.2055 - acc: 0.4295 - val_loss: 3.2654 - val_acc: 0.2855\n",
      "Epoch 26/50\n",
      "100000/100000 [==============================] - 92s - loss: 2.2056 - acc: 0.4288 - val_loss: 3.0983 - val_acc: 0.3070\n",
      "Epoch 27/50\n",
      "100000/100000 [==============================] - 96s - loss: 2.2004 - acc: 0.4319 - val_loss: 3.1029 - val_acc: 0.3045\n",
      "Epoch 28/50\n",
      "100000/100000 [==============================] - 93s - loss: 2.2026 - acc: 0.4312 - val_loss: 3.0875 - val_acc: 0.3061.4\n",
      "Epoch 29/50\n",
      "100000/100000 [==============================] - 95s - loss: 2.1973 - acc: 0.4332 - val_loss: 3.1995 - val_acc: 0.2906\n",
      "Epoch 30/50\n",
      "100000/100000 [==============================] - 89s - loss: 2.1908 - acc: 0.4328 - val_loss: 3.0934 - val_acc: 0.3073\n",
      "Epoch 31/50\n",
      "100000/100000 [==============================] - 96s - loss: 2.1877 - acc: 0.4327 - val_loss: 3.1989 - val_acc: 0.2946\n",
      "Epoch 32/50\n",
      "100000/100000 [==============================] - 93s - loss: 2.1907 - acc: 0.4326 - val_loss: 3.0723 - val_acc: 0.3109\n",
      "Epoch 33/50\n",
      "100000/100000 [==============================] - 100s - loss: 2.1798 - acc: 0.4356 - val_loss: 3.1361 - val_acc: 0.3017\n",
      "Epoch 34/50\n",
      "100000/100000 [==============================] - 98s - loss: 2.1850 - acc: 0.4352 - val_loss: 3.2795 - val_acc: 0.2801\n",
      "Epoch 35/50\n",
      "100000/100000 [==============================] - 88s - loss: 2.1795 - acc: 0.4328 - val_loss: 3.1127 - val_acc: 0.3048\n",
      "Epoch 36/50\n",
      "100000/100000 [==============================] - 98s - loss: 2.1722 - acc: 0.4362 - val_loss: 3.1209 - val_acc: 0.3043\n",
      "Epoch 37/50\n",
      "100000/100000 [==============================] - 92s - loss: 2.1736 - acc: 0.4366 - val_loss: 3.0868 - val_acc: 0.3080\n",
      "Epoch 38/50\n",
      "100000/100000 [==============================] - 85s - loss: 2.1765 - acc: 0.4364 - val_loss: 3.1143 - val_acc: 0.3034\n",
      "Epoch 39/50\n",
      "100000/100000 [==============================] - 98s - loss: 2.1725 - acc: 0.4364 - val_loss: 3.1399 - val_acc: 0.2979\n",
      "Epoch 40/50\n",
      " 21632/100000 [=====>........................] - ETA: 57s - loss: 2.1218 - acc: 0.4494"
     ]
    }
   ],
   "source": [
    "# note = 'Model 1: Default Original Params (10 Epoch)'\n",
    "# note = 'Model 2: default model 64 batch size (10 Epoch)'\n",
    "# note = 'Model 3: 128 batch size, with STG-Neterov (10 Epoch)'\n",
    "# note = 'Model default (activation:{})'.format(conv_layer_activation)\n",
    "# note = 'Model VGG-16'\n",
    "\n",
    "\n",
    "try:\n",
    "    history = model.fit(train_images,\n",
    "                        train_labels,\n",
    "                        epochs=epochs,\n",
    "                        batch_size=batch_size,\n",
    "                        validation_data=(val_images, val_labels),\n",
    "                        shuffle=True)\n",
    "    date_string = datetime.datetime.now().strftime(\"%a_%H_%M\")\n",
    "    model_path = 'models/model_' + date_string + '_' + str(epochs) + 'epc'\n",
    "\n",
    "    model.save(model_path + '.h5')                                    # creates a HDF5 file 'cnn_model.h5'\n",
    "    plot_history(history=history, model_path=model_path, title=note)  # plot, and sve to .png\n",
    "    with open(model_path + '.txt','w') as fh:                         # save useful info to .txt\n",
    "        fh.write('Epochs: ' + str(epochs) + '\\n')\n",
    "        fh.write('Final validation acc: ' + str(history.history['val_acc'][-1]) + '\\n')\n",
    "        fh.write('Note: ' + note + '\\n')\n",
    "        model.summary(print_fn=lambda x: fh.write(x + '\\n'))\n",
    "        \n",
    "    with open(model_path + '.json', 'w') as fp:           # save experiment settings to .json\n",
    "        for h in history.history:\n",
    "            experiement_config[h] = history.history[h] # copying history content to json file\n",
    "        json.dump(experiement_config, fp, indent=4)\n",
    "except Exception as e:\n",
    "    raise e"
   ]
  },
  {
   "cell_type": "code",
   "execution_count": 16,
   "metadata": {},
   "outputs": [
    {
     "data": {
      "image/png": "[encoded data removed]",
      "text/plain": [
       "<matplotlib.figure.Figure at 0x7f93a92e2810>"
      ]
     },
     "metadata": {},
     "output_type": "display_data"
    }
   ],
   "source": [
    "plot_history(history=history, model_path=model_path, title=note)  # plot, and sve to .png"
   ]
  },
  {
   "cell_type": "code",
   "execution_count": 43,
   "metadata": {},
   "outputs": [],
   "source": [
    "del model"
   ]
  },
  {
   "cell_type": "markdown",
   "metadata": {},
   "source": [
    "# Established Models"
   ]
  },
  {
   "cell_type": "markdown",
   "metadata": {},
   "source": [
    "# Unused Code"
   ]
  },
  {
   "cell_type": "markdown",
   "metadata": {},
   "source": [
    "### Plot Accuracy History"
   ]
  },
  {
   "cell_type": "code",
   "execution_count": 5,
   "metadata": {
    "colab": {
     "autoexec": {
      "startup": false,
      "wait_interval": 0
     }
    },
    "colab_type": "code",
    "id": "w0NlZ0GYWRiS"
   },
   "outputs": [],
   "source": [
    "def prepare_batch(X,y,batch_size=50):\n",
    "    N = len(y) / batch_size\n",
    "    i = 0\n",
    "    yield X[:batch_size], y[:batch_size]\n",
    "    i += 1\n",
    "    while i < N:\n",
    "        yield X[batch_size*i:batch_size*(i+1)], y[batch_size*i:batch_size*(i+1)]\n",
    "        i = i + 1"
   ]
  },
  {
   "cell_type": "code",
   "execution_count": 7,
   "metadata": {},
   "outputs": [
    {
     "data": {
      "application/javascript": [
       "$(document).ready(\n",
       "    function() {\n",
       "        function appendUniqueDiv(){\n",
       "            // append a div with our uuid so we can check that it's already\n",
       "            // been sent and avoid duplicates on page reload\n",
       "            var notifiedDiv = document.createElement(\"div\")\n",
       "            notifiedDiv.id = \"ebec9395-2ab0-49e6-8ed7-d7e35cd575c0\"\n",
       "            element.append(notifiedDiv)\n",
       "        }\n",
       "\n",
       "        // only send notifications if the pageload is complete; this will\n",
       "        // help stop extra notifications when a saved notebook is loaded,\n",
       "        // which during testing gives us state \"interactive\", not \"complete\"\n",
       "        if (document.readyState === 'complete') {\n",
       "            // check for the div that signifies that the notification\n",
       "            // was already sent\n",
       "            if (document.getElementById(\"ebec9395-2ab0-49e6-8ed7-d7e35cd575c0\") === null) {\n",
       "                var notificationPayload = {\"body\": \"Cell execution has finished!\", \"requireInteraction\": false, \"icon\": \"/static/base/images/favicon.ico\"};\n",
       "                if (Notification.permission !== 'denied') {\n",
       "                    if (Notification.permission !== 'granted') { \n",
       "                        Notification.requestPermission(function (permission) {\n",
       "                            if(!('permission' in Notification)) {\n",
       "                                Notification.permission = permission\n",
       "                            }\n",
       "                        })\n",
       "                    }\n",
       "                    if (Notification.permission === 'granted') {\n",
       "                    var notification = new Notification(\"Jupyter Notebook\", notificationPayload)\n",
       "                    appendUniqueDiv()\n",
       "                    notification.onclick = function () {\n",
       "                        window.focus();\n",
       "                        this.close();\n",
       "                        };\n",
       "                    } \n",
       "                }     \n",
       "            }\n",
       "        }\n",
       "    }\n",
       ")\n"
      ],
      "text/plain": [
       "<IPython.core.display.Javascript object>"
      ]
     },
     "metadata": {},
     "output_type": "display_data"
    }
   ],
   "source": [
    "import time\n",
    "time.sleep(2)"
   ]
  },
  {
   "cell_type": "code",
   "execution_count": null,
   "metadata": {},
   "outputs": [],
   "source": [
    "# SNAPSHOT Of PRevious Default structure\n",
    "\n",
    "# Default is 5 2DConv and 2 FC\n",
    "add_conv_layer(model, conv_layer_activation, 16, filter_size, (64,64,3)) # conv1\n",
    "add_conv_layer(model, conv_layer_activation, 16, filter_size, batch_normalization=True) # conv2\n",
    "add_conv_layer(model, conv_layer_activation, 32, filter_size, batch_normalization=True) # conv3\n",
    "add_conv_layer(model, conv_layer_activation, 32, filter_size, batch_normalization=True) # conv4\n",
    "add_conv_layer(model, conv_layer_activation, 32, filter_size, batch_normalization=True) # conv5\n",
    "\n",
    "# fc1\n",
    "model.add(Dense(2048))\n",
    "model.add(Activation('relu'))\n",
    "model.add(Dropout(0.4))\n",
    "\n",
    "# fc2\n",
    "model.add(Dense(n_classes))\n",
    "model.add(Activation('softmax'))"
   ]
  }
 ],
 "metadata": {
  "colab": {
   "default_view": {},
   "name": "cogs181-final-project(keras).ipynb",
   "provenance": [],
   "version": "0.3.2",
   "views": {}
  },
  "kernelspec": {
   "display_name": "Python 2",
   "language": "python",
   "name": "python2"
  },
  "language_info": {
   "codemirror_mode": {
    "name": "ipython",
    "version": 2
   },
   "file_extension": ".py",
   "mimetype": "text/x-python",
   "name": "python",
   "nbconvert_exporter": "python",
   "pygments_lexer": "ipython2",
   "version": "2.7.14"
  }
 },
 "nbformat": 4,
 "nbformat_minor": 1
}
