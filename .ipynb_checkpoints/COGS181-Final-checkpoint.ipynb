{
 "cells": [
  {
   "cell_type": "markdown",
   "metadata": {
    "colab_type": "text",
    "id": "-v0Wxs_Kq0ce"
   },
   "source": [
    "# Assignment Description:\n",
    "\n",
    "---\n",
    "\n",
    "\n",
    "Assignment Page: https://sites.google.com/site/ucsdcogs181fall2017/classroom-news\n",
    "\n",
    "Due date: 11:59Pm, 12/16\n",
    "\n",
    "Late Policy: 5% of the total points will be deducted for the first day past due and every 10% of the total points will be deducted for every extra day afterwards.\n",
    "\n",
    "Report format: Write a report with >1,500 words including main sections: a) abstract, b) introduction, c) method, d) experiment, e) conclusion, and f) references. You can follow the paper format as e.g leading machine learning journals such as Journal of Machine Learning Research (http://www.jmlr.org/) or IEEE Trans. on Pattern Analysis and Machine Intelligence (http://www.computer.org/web/tpami), or leading conferences like NIPS (https://papers.nips.cc/) and ICML (http://icml.cc/2016/?page_id=151). \n",
    "\n",
    "Bonus points: If you feel that your work deserves bonus points due to reasons such as: a) novel ideas and applications, b) large efforts in your own data collection/preparation, c) state-of-the-art results on your applications, or d) new algorithms or neural network architecture, please create a \"Bonus Points\" section to specifically describe why you deserve bonus points. In general, we evaluation your justifications based on the review guidelines based on e.g. CVPR/NIPS/ICCV/ICLR.\n",
    "\n",
    "\n",
    "Note that  requirement for the word count (>1,500)  only applies to a single-student project. For team-based projects, each team only needs to write one final report but the role of each team member needs to be clearly defined ans specified. The final project report is also supposed to be much longer thatn 1,500 words, depending upon how many (maximum 3) members there are in your team.\n",
    "\n",
    "Word count:\n",
    "One-person team: >1,500\n",
    "Two-persons team: > 2,200\n",
    "Three-persons team: > 2,900\n",
    "\n",
    "See below a link about writing a scientific paper: http://abacus.bates.edu/~ganderso/biology/resources/writing/HTWtoc.html The format of your references can be of any kind that is adopted in the above journals or conferences.\n",
    "\n",
    "Grading: The merit and grading of your project can be judged from aspects described below that are common when reviewing a paper: \n",
    "1. Interestingness of the problem you are studying. (10 points).\n",
    "\n",
    "2. How challenging and large is the dataset you are studying? (10 points)\n",
    "\n",
    "3. Any aspects that are new in terms of algorithm development, uniqueness of the data, or new applications? (20 points)\n",
    "\n",
    "4. Is your experimental design comprehensive? Have you done thoroughly experiments in tuning hyper parameters? (30 points)\n",
    "\n",
    "Tuning hyper-parameters in your final project will need to be more comprehensive that what was done in HW4.\n",
    "For example, if you are performing CNN classification on the Tiny ImageNet dataset, some options to consider include\n",
    "a. Comparing two different architectures chosen from e.g. LeNet, AlexNet, VGG, GoogleNet or ResNet\n",
    "b. Trying to vary the number of layers.\n",
    "c. Trying to adopt different optimization methods, for example Adam vs. stocahstic gradient descent\n",
    "d. Trying different pooling functions, average pooling, max pooling, stochastic pooling\n",
    "e. Trying to use different activation functions such as ReLu, Sigmoid etc.\n",
    " \n",
    "See e.g. how the significance was justified in the ResNet pape (you don't have to follow this paper though): https://arxiv.org/pdf/1512.03385.pdf\n",
    " \n",
    "5. Is your report written in a professional way with sections including abstract, introduction, method/architecture description, experiments ( data and problem description, hyper-parameters, training process etc.), conclusion, and references? (30 points)\n",
    "\n",
    "6. Bonus points will be assigned to projects that have adopted new methods, worked on novel applications, and/or have done a thorough comparison against the existing methods and possible choices.\n"
   ]
  },
  {
   "cell_type": "markdown",
   "metadata": {
    "colab_type": "text",
    "id": "aZCWUibBsOnN"
   },
   "source": [
    "### Option (1): Convolutional neural networks Train a convolutional neural networks method on Tiny ImageNet dataset \n",
    "    Link : http://pages.ucsd.edu/~ztu/courses/tiny-imagenet-200.zip)\n",
    "\n",
    "You can choose any deep learning platforms including MatConvNet (http://www.vlfeat.org/matconvnet/), Theano (http://deeplearning.net/software/theano/), Torch (http://torch.ch/), Caffe (http://caffe.berkeleyvision.org/), MxNet (https://github.com/dmlc/mxnet), and TensorFlow.\n",
    "\n",
    "See in the link other possible platforms you can use: http://deeplearning.net/software_links/ You can train a model by building your own network structure or by adopting/following standard networks like AlexNet, GoogLeNet, VGG, etc. You are also welcome to use datasets other than ImageNet, e.g. CIFAR-10, and Kaggle datasets (https://www.kaggle.com/) such as the deep sea image competition: https://www.kaggle.com/c/datasciencebowl"
   ]
  },
  {
   "cell_type": "markdown",
   "metadata": {
    "colab_type": "text",
    "id": "O0q097e_b5Uy"
   },
   "source": [
    "### Data source and Related Paper\n",
    "- https://tiny-imagenet.herokuapp.com/\n",
    "- http://cs231n.stanford.edu/reports/2017/pdfs/937.pdf\n",
    "- http://cs231n.stanford.edu/reports/2017/pdfs/940.pdf"
   ]
  },
  {
   "cell_type": "markdown",
   "metadata": {
    "colab_type": "text",
    "id": "8aghMOeKbo11"
   },
   "source": [
    "# Setup, Download and Preprocess"
   ]
  },
  {
   "cell_type": "code",
   "execution_count": 2,
   "metadata": {
    "colab": {
     "autoexec": {
      "startup": false,
      "wait_interval": 0
     },
     "base_uri": "https://localhost:8080/",
     "height": 170,
     "output_extras": [
      {
       "item_id": 1
      }
     ]
    },
    "colab_type": "code",
    "executionInfo": {
     "elapsed": 2555,
     "status": "ok",
     "timestamp": 1513036568083,
     "user": {
      "displayName": "Tony Lim",
      "photoUrl": "//lh3.googleusercontent.com/-DO9616bnct4/AAAAAAAAAAI/AAAAAAAADOc/rjhjTHF-kxU/s50-c-k-no/photo.jpg",
      "userId": "100029816334508670274"
     },
     "user_tz": 480
    },
    "id": "0pSng7KtuSoW",
    "outputId": "d0ba9a0f-5fd5-4339-b2a1-1be674c193f2"
   },
   "outputs": [
    {
     "name": "stdout",
     "output_type": "stream",
     "text": [
      "Name: tensorflow-gpu\n",
      "Version: 1.4.0.dev20171012\n",
      "Summary: TensorFlow helps the tensors flow\n",
      "Home-page: https://www.tensorflow.org/\n",
      "Author: Google Inc.\n",
      "Author-email: opensource@google.com\n",
      "License: Apache 2.0\n",
      "Location: /opt/conda/lib/python2.7/site-packages\n",
      "Requires: enum34, backports.weakref, wheel, mock, tensorflow-tensorboard, numpy, protobuf, six\n",
      "Name: Keras\n",
      "Version: 2.0.8\n",
      "Summary: Deep Learning for Python\n",
      "Home-page: https://github.com/fchollet/keras\n",
      "Author: Francois Chollet\n",
      "Author-email: francois.chollet@gmail.com\n",
      "License: MIT\n",
      "Location: /opt/conda/lib/python2.7/site-packages\n",
      "Requires: pyyaml, six, scipy, numpy\n"
     ]
    }
   ],
   "source": [
    "# To determine which version you're using:\n",
    "!pip show tensorflow-gpu\n",
    "!pip show keras"
   ]
  },
  {
   "cell_type": "code",
   "execution_count": 18,
   "metadata": {},
   "outputs": [
    {
     "data": {
      "text/plain": [
       "[u'/device:GPU:0']"
      ]
     },
     "execution_count": 18,
     "metadata": {},
     "output_type": "execute_result"
    }
   ],
   "source": [
    "from tensorflow.python.client import device_lib\n",
    "\n",
    "def get_available_gpus():\n",
    "    local_device_protos = device_lib.list_local_devices()\n",
    "    return [x.name for x in local_device_protos if x.device_type == 'GPU']\n",
    "  \n",
    "get_available_gpus()"
   ]
  },
  {
   "cell_type": "code",
   "execution_count": 1,
   "metadata": {
    "colab": {
     "autoexec": {
      "startup": false,
      "wait_interval": 0
     }
    },
    "colab_type": "code",
    "id": "g7fRT5eTuVQr"
   },
   "outputs": [],
   "source": [
    "!cd /tmp; wget --quiet http://pages.ucsd.edu/~ztu/courses/tiny-imagenet-200.zip\n",
    "!cd /tmp; unzip -qq tiny-imagenet-200.zip; rm tiny-imagenet-200.zip"
   ]
  },
  {
   "cell_type": "markdown",
   "metadata": {
    "colab_type": "text",
    "id": "f_32fTulcA9_"
   },
   "source": [
    "### Imports"
   ]
  },
  {
   "cell_type": "code",
   "execution_count": 1,
   "metadata": {
    "colab": {
     "autoexec": {
      "startup": false,
      "wait_interval": 0
     }
    },
    "colab_type": "code",
    "id": "VkBIPDH_4yPi"
   },
   "outputs": [],
   "source": [
    "import tensorflow as tf\n",
    "import glob\n",
    "import matplotlib.pyplot as plt\n",
    "import random\n",
    "import scipy.ndimage\n",
    "import pandas as pd\n",
    "import numpy as np\n",
    "from collections import defaultdict\n",
    "from PIL import Image\n",
    "from tensorflow.contrib.learn.python.learn.datasets.mnist import DataSet\n",
    "\n",
    "%matplotlib inline\n",
    "plt.rcParams['figure.figsize'] = (10, 6)\n",
    "\n",
    "def distort(filename):\n",
    "    \"\"\"Apply image distortions\"\"\"\n",
    "    with tf.Graph().as_default():\n",
    "        file = tf.read_file(filename)\n",
    "        img = tf.image.decode_jpeg(file, 3)\n",
    "        img = tf.image.adjust_saturation(img, 0.5)\n",
    "        img = tf.image.adjust_hue(img, -0.05)\n",
    "        with tf.Session() as sess:\n",
    "            dist_img = sess.run(img)\n",
    "    \n",
    "    return dist_img"
   ]
  },
  {
   "cell_type": "markdown",
   "metadata": {
    "colab_type": "text",
    "id": "mGQ2FlzicDuN"
   },
   "source": [
    "### Data Exploratory"
   ]
  },
  {
   "cell_type": "code",
   "execution_count": 2,
   "metadata": {
    "colab": {
     "autoexec": {
      "startup": false,
      "wait_interval": 0
     }
    },
    "colab_type": "code",
    "id": "p9nGkMtpsCFs"
   },
   "outputs": [],
   "source": [
    "import glob\n",
    "\n",
    "path = \"/tmp/tiny-imagenet-200/\"\n",
    "train_dirs = glob.glob(path + \"train/*\")\n",
    "val_dirs   = glob.glob(path + \"val/*\")\n",
    "test_dirs  = glob.glob(path + \"test/*\")"
   ]
  },
  {
   "cell_type": "markdown",
   "metadata": {
    "colab_type": "text",
    "id": "5DfQNHZk3KoZ"
   },
   "source": [
    "#### Loading All Labels"
   ]
  },
  {
   "cell_type": "code",
   "execution_count": 4,
   "metadata": {
    "colab": {
     "autoexec": {
      "startup": false,
      "wait_interval": 0
     },
     "base_uri": "https://localhost:8080/",
     "height": 34,
     "output_extras": [
      {
       "item_id": 1
      }
     ]
    },
    "colab_type": "code",
    "executionInfo": {
     "elapsed": 527,
     "status": "ok",
     "timestamp": 1513051145558,
     "user": {
      "displayName": "Tony Lim",
      "photoUrl": "//lh3.googleusercontent.com/-DO9616bnct4/AAAAAAAAAAI/AAAAAAAADOc/rjhjTHF-kxU/s50-c-k-no/photo.jpg",
      "userId": "100029816334508670274"
     },
     "user_tz": 480
    },
    "id": "KqGZvL1mvGpx",
    "outputId": "a7f7d4e0-c1a3-4a38-be47-dff3b6eb1148"
   },
   "outputs": [
    {
     "data": {
      "text/plain": [
       "40000"
      ]
     },
     "execution_count": 4,
     "metadata": {},
     "output_type": "execute_result"
    }
   ],
   "source": [
    "# This is global labels, there are 18K of them, but only 200 is used for training and validation\n",
    "labels = []\n",
    "for line in open(path + 'words.txt'):\n",
    "    [classname, description ] = line.strip().split('\\t')\n",
    "    labels.append( (classname,description) )\n",
    "label_dicts = dict(labels)\n",
    "\n",
    "# There are only 200 used labels in both training and validation\n",
    "used_labels =  [ d[-9:] for d in train_dirs ]\n",
    "len(used_labels)\n",
    "\n",
    "# Hot-Encode Labels\n",
    "from sklearn.preprocessing import LabelBinarizer\n",
    "\n",
    "bin_encoder = LabelBinarizer()\n",
    "bin_encoder.fit_transform(used_labels).size"
   ]
  },
  {
   "cell_type": "markdown",
   "metadata": {
    "colab_type": "text",
    "id": "wjOwALs23NdV"
   },
   "source": [
    "#### Loading Train Data"
   ]
  },
  {
   "cell_type": "code",
   "execution_count": 68,
   "metadata": {},
   "outputs": [
    {
     "data": {
      "text/plain": [
       "100000"
      ]
     },
     "execution_count": 68,
     "metadata": {},
     "output_type": "execute_result"
    }
   ],
   "source": [
    "train_data_paths = []\n",
    "train_labels = []\n",
    "for class_path in train_dirs:\n",
    "    class_name = class_path[-9:]\n",
    "    images = glob.glob(class_path + '/images/*')\n",
    "    for image_path in images:\n",
    "        train_labels.append( class_name )\n",
    "        train_data_paths.append( image_path )\n",
    "        \n",
    "inter = list(zip(train_data_paths, train_labels))\n",
    "random.shuffle(inter)\n",
    "train_data_paths, train_labels = zip(*inter)\n",
    "\n",
    "train_labels = bin_encoder.transform(train_labels) # hot-encode labels from string to number\n",
    "len(train_labels)"
   ]
  },
  {
   "cell_type": "code",
   "execution_count": 75,
   "metadata": {},
   "outputs": [],
   "source": [
    "def get_image(img_path):\n",
    "    img = scipy.ndimage.imread(img_path)\n",
    "    if len(img.shape) != 3: # reshape back to RBG format\n",
    "        img = np.repeat(img[:,:,np.newaxis], 3, axis=2)\n",
    "    return img\n",
    "\n",
    "def get_images(paths):\n",
    "    X = []\n",
    "    for p in paths:\n",
    "        X.append(get_image(p))\n",
    "    return X\n",
    "        \n",
    "def prepare_batch(X,y,batch_size=50):\n",
    "    N = len(y) / batch_size\n",
    "    i = 0\n",
    "    yield X[:batch_size], y[:batch_size]\n",
    "    while i < N:\n",
    "        yield X[batch_size*i:batch_size*(i+1)], y[batch_size*i:batch_size*(i+1)]\n",
    "        i = i + 1"
   ]
  },
  {
   "cell_type": "code",
   "execution_count": 57,
   "metadata": {},
   "outputs": [
    {
     "name": "stdout",
     "output_type": "stream",
     "text": [
      "(0, 10000, 10000)\n",
      "(1, 10000, 10000)\n",
      "(2, 10000, 10000)\n",
      "(3, 10000, 10000)\n",
      "(4, 10000, 10000)\n",
      "(5, 10000, 10000)\n",
      "(6, 10000, 10000)\n",
      "(7, 10000, 10000)\n",
      "(8, 10000, 10000)\n",
      "(9, 10000, 10000)\n",
      "(10, 10000, 10000)\n"
     ]
    }
   ],
   "source": [
    "_i = 0\n",
    "for _x, _y in prepare_batch(train_data_paths, train_labels, 10000):\n",
    "    print( _i, len(_x), len(_y))\n",
    "    _i += 1"
   ]
  },
  {
   "cell_type": "code",
   "execution_count": 8,
   "metadata": {
    "colab": {
     "autoexec": {
      "startup": false,
      "wait_interval": 0
     }
    },
    "colab_type": "code",
    "id": "Fw4XvvF525O2"
   },
   "outputs": [],
   "source": [
    "# inter = list(zip(train_images, train_labels))\n",
    "# random.shuffle(inter)\n",
    "# images, labels = zip(*inter)\n",
    "# train_data = DataSet( np.array(train_images), np.array(train_labels), reshape=False)\n",
    "# del train_images, train_labels"
   ]
  },
  {
   "cell_type": "markdown",
   "metadata": {
    "colab_type": "text",
    "id": "i4DBoIC9ED9w"
   },
   "source": [
    "### Loading Validation Data"
   ]
  },
  {
   "cell_type": "code",
   "execution_count": 12,
   "metadata": {
    "colab": {
     "autoexec": {
      "startup": false,
      "wait_interval": 0
     }
    },
    "colab_type": "code",
    "id": "d9tihkh-B5oP"
   },
   "outputs": [
    {
     "data": {
      "text/plain": [
       "10000"
      ]
     },
     "execution_count": 12,
     "metadata": {},
     "output_type": "execute_result"
    }
   ],
   "source": [
    "val_labels = []\n",
    "val_fns = []\n",
    "val_images = []\n",
    "for line in open(path + 'val/val_annotations.txt'):\n",
    "  [fn, classname, _ , _, _, _ ] = line.strip().split('\\t')\n",
    "  \n",
    "  img = scipy.ndimage.imread(path +'val/images/' + fn )\n",
    "  if len(img.shape) != 3: # reshape back to RBG format\n",
    "      img = np.repeat(img[:,:,np.newaxis], 3, axis=2)\n",
    "      \n",
    "  val_labels.append(classname)\n",
    "  val_images.append(img)\n",
    "\n",
    "# hot-encode labels from string to number\n",
    "# val_labels = encoder.transform(val_labels)\n",
    "val_labels = bin_encoder.transform(val_labels)\n",
    "\n",
    "val_data = DataSet( np.array(val_images), np.array(val_labels), reshape=False)\n",
    "del val_labels, val_images\n",
    "val_data.num_examples"
   ]
  },
  {
   "cell_type": "code",
   "execution_count": 16,
   "metadata": {},
   "outputs": [
    {
     "data": {
      "text/plain": [
       "((2000, 64, 64, 3), (2000, 200))"
      ]
     },
     "execution_count": 16,
     "metadata": {},
     "output_type": "execute_result"
    }
   ],
   "source": [
    "# mini-validation set\n",
    "_x_val, _y_val = val_data.next_batch(2000)\n",
    "_x_val.shape, _y_val.shape"
   ]
  },
  {
   "cell_type": "markdown",
   "metadata": {
    "colab_type": "text",
    "id": "kfAEt-8zcFxL"
   },
   "source": [
    "# Data Analysis"
   ]
  },
  {
   "cell_type": "code",
   "execution_count": 81,
   "metadata": {
    "colab": {
     "autoexec": {
      "startup": false,
      "wait_interval": 0
     }
    },
    "colab_type": "code",
    "id": "_RY9ds0NEocN"
   },
   "outputs": [],
   "source": [
    "\n",
    "# Network Parameters\n",
    "n_classes = 200\n",
    "\n",
    "def weight_variable(shape):\n",
    "    initial = tf.truncated_normal(shape, stddev=0.1)\n",
    "    return tf.Variable(initial)\n",
    "\n",
    "def bias_variable(shape):\n",
    "    initial = tf.constant(0.1, shape=shape)\n",
    "    return tf.Variable(initial)\n",
    "\n",
    "def conv2d(x, W):\n",
    "    return tf.nn.conv2d(x, W, strides=[1, 1, 1, 1], padding='SAME')\n",
    "\n",
    "def max_pooling2d(x):\n",
    "    return tf.nn.max_pool(x, ksize=[1, 2, 2, 1], strides=[1, 2, 2, 1], padding='SAME')\n",
    "\n",
    "X = tf.placeholder(\"float\", [None, 64, 64, 3], name='x')\n",
    "Y = tf.placeholder(\"float\", [None, n_classes], name='y_true')"
   ]
  },
  {
   "cell_type": "code",
   "execution_count": 18,
   "metadata": {
    "colab": {
     "autoexec": {
      "startup": false,
      "wait_interval": 0
     }
    },
    "colab_type": "code",
    "id": "fM9Fy2IZEVti"
   },
   "outputs": [],
   "source": [
    "class ConvNet():\n",
    "    \n",
    "    def __init__(self, conv_fn, pooling_fn, activation_fn):\n",
    "        self._conv_fn = conv_fn\n",
    "        self._pooling_fn = pooling_fn\n",
    "        self._activation_fn = activation_fn\n",
    "    \n",
    "    def conv_layer(self, x, n_filters, kernel_size):\n",
    "        shape = [kernel_size] * 2\n",
    "        shape = shape + [x.shape[-1].value, n_filters]\n",
    "        \n",
    "        w = weight_variable(shape)\n",
    "        b = bias_variable([n_filters])\n",
    "        return self._activation_fn(self._conv_fn(x, w) + b)\n",
    "    \n",
    "    def pool_layer(self, x, n_strides, kernel_size):\n",
    "        return self._pooling_fn(x)\n",
    "    \n",
    "    def fc_layer(self, x, n_neurons):\n",
    "        mult = lambda x, y: x * y\n",
    "        \n",
    "        shape = x.get_shape().as_list()[1:]\n",
    "        flat_shape = reduce(mult, shape, 1)\n",
    "        \n",
    "        w = weight_variable([flat_shape, n_neurons])\n",
    "        b = bias_variable([n_neurons])\n",
    "        x_flat = tf.reshape(x, [-1, flat_shape])\n",
    "        fc = self._activation_fn(tf.matmul(x_flat, w) + b)\n",
    "        return fc\n",
    "    \n",
    "    def out_layer(self, x, n_classes):\n",
    "        w = weight_variable([x.shape[-1].value, n_classes])\n",
    "        b = bias_variable([n_classes])\n",
    "        return tf.matmul(x, w) + b"
   ]
  },
  {
   "cell_type": "markdown",
   "metadata": {
    "colab_type": "text",
    "id": "GoiaIrfs2FRx"
   },
   "source": [
    "https://github.com/tensorflow/tensorflow/blob/master/tensorflow/contrib/learn/python/learn/datasets/mnist.py"
   ]
  },
  {
   "cell_type": "code",
   "execution_count": 84,
   "metadata": {
    "colab": {
     "autoexec": {
      "startup": false,
      "wait_interval": 0
     }
    },
    "colab_type": "code",
    "id": "8FQJfHYt2GEx"
   },
   "outputs": [],
   "source": [
    "learning_rate = 1e-3\n",
    "\n",
    "# Convolutions use a stride of one\n",
    "# Plain old max pooling over 2x2 blocks\n",
    "# Activation function is the ReLu function\n",
    "conv_net = ConvNet(conv2d, max_pooling2d, tf.nn.relu)\n",
    "\n",
    "# MNIST data input is a 1-D vector of 784 features (28*28 pixels)\n",
    "# Reshape to match picture format [Height x Width x Channel]\n",
    "x_image = tf.reshape(X, [-1, 64, 64, 3], name='X')\n",
    "\n",
    "# Convolution Layer with 32 filters and a kernel size of 5\n",
    "conv1 = conv_net.conv_layer(x_image, 32, 5)\n",
    "\n",
    "# Convolution Layer with 64 filters and a kernel size of 5\n",
    "conv2 = conv_net.conv_layer(conv1, 64, 5)\n",
    "\n",
    "# Fully connected layer with 1024 neurons\n",
    "fc = conv_net.fc_layer(conv2, 1024)\n",
    "\n",
    "# Applying a dropout before the readout layer to reduce\n",
    "# overfitting\n",
    "keep_prob = tf.placeholder(tf.float32)\n",
    "fc = tf.nn.dropout(fc, keep_prob)\n",
    "\n",
    "# Readout layer\n",
    "y_conv = conv_net.out_layer(fc, n_classes)"
   ]
  },
  {
   "cell_type": "code",
   "execution_count": 85,
   "metadata": {
    "colab": {
     "autoexec": {
      "startup": false,
      "wait_interval": 0
     },
     "base_uri": "https://localhost:8080/",
     "height": 286,
     "output_extras": [
      {
       "item_id": 5
      },
      {
       "item_id": 6
      }
     ]
    },
    "colab_type": "code",
    "executionInfo": {
     "elapsed": 584814,
     "status": "error",
     "timestamp": 1513051779388,
     "user": {
      "displayName": "Tony Lim",
      "photoUrl": "//lh3.googleusercontent.com/-DO9616bnct4/AAAAAAAAAAI/AAAAAAAADOc/rjhjTHF-kxU/s50-c-k-no/photo.jpg",
      "userId": "100029816334508670274"
     },
     "user_tz": 480
    },
    "id": "HB0giFqzGEky",
    "outputId": "7817e3fd-b298-4dc9-f431-664e2140ccfb"
   },
   "outputs": [],
   "source": [
    "cross_entropy = tf.reduce_mean(\n",
    "    tf.nn.softmax_cross_entropy_with_logits(logits=y_conv, labels=Y))\n",
    "optimizer     = tf.train.AdamOptimizer(learning_rate)\n",
    "train_step    = optimizer.minimize(cross_entropy)\n",
    "\n",
    "correct_prediction = tf.equal(tf.argmax(y_conv, 1), tf.argmax(Y, 1))\n",
    "accuracy           = tf.reduce_mean(tf.cast(correct_prediction, tf.float32))\n",
    "\n",
    "\n",
    "train_loss,train_acc  = [],[]\n",
    "val_acc   , test_acc  = [],[]"
   ]
  },
  {
   "cell_type": "code",
   "execution_count": 21,
   "metadata": {},
   "outputs": [
    {
     "name": "stdout",
     "output_type": "stream",
     "text": [
      "step 0, training accuracy 0.06\n",
      "step 500, training accuracy 0.86\n",
      "step 1000, training accuracy 1\n",
      "step 1500, training accuracy 1\n"
     ]
    }
   ],
   "source": [
    "# Training Parameters\n",
    "# n_steps = 2000\n",
    "epoch = 2             # two pass on all training_data\n",
    "batch_size = 50       # in each iteration, train 50, total iteration = 100K / batch_size (in the case of 50 batch size, 4K iteration)\n",
    "\n",
    "# Use interactive session instead\n",
    "# with tf.Session() as sess:\n",
    "sess = tf.Session()\n",
    "sess.run(tf.global_variables_initializer())\n",
    "i = 0\n",
    "for e in range(epoch):\n",
    "    for img_paths, batch_y in prepare_batch(train_data_paths, train_labels, batch_size=batch_size):\n",
    "        batch_x = get_images(img_paths)\n",
    "        _, loss = sess.run([train_step, cross_entropy], feed_dict={X: batch_x, Y: batch_y, keep_prob: 0.5})\n",
    "        train_accuracy = accuracy.eval(session=sess, feed_dict={X: batch_x, Y: batch_y, keep_prob: 1.0})\n",
    "        val_accuracy   = accuracy.eval(session=sess, feed_dict={X: _x_val, Y: _y_val  , keep_prob: 1.0}) # mini-validation sample, because not enough memory\n",
    "        train_acc.append(train_accuracy)\n",
    "        val_acc  .append(val_accuracy)\n",
    "        train_loss.append(loss)\n",
    "        i += 1\n",
    "        if i % 200 == 0:\n",
    "            print('step %d, training accuracy %g, validation accuracy %g' % (i, train_accuracy, val_accuracy))\n",
    "    \n",
    "# for i in range(n_steps):\n",
    "#     batch_x, batch_y = train_data.next_batch(batch_size)\n",
    "#     _, loss = sess.run([train_step, cross_entropy], feed_dict={X: batch_x, Y: batch_y, keep_prob: 0.5})\n",
    "\n",
    "#     if i % 10 == 0: # keep track accuracy every 5 steps\n",
    "#         train_accuracy = accuracy.eval(session=sess, feed_dict={X: batch_x, Y: batch_y, keep_prob: 1.0})\n",
    "#         val_accuracy   = accuracy.eval(session=sess, feed_dict={X: _x_val, Y: _y_val  , keep_prob: 1.0}) # mini-validation sample, because not enough memory\n",
    "        \n",
    "#         train_acc.append(train_accuracy)\n",
    "#         val_acc  .append(val_accuracy)\n",
    "#         train_loss.append(loss)\n",
    "\n",
    "#         if i % 500 == 0: # print accuracy every 100 steps\n",
    "#             print('step %d, training accuracy %g' % (i, train_accuracy))"
   ]
  },
  {
   "cell_type": "code",
   "execution_count": 26,
   "metadata": {},
   "outputs": [
    {
     "name": "stdout",
     "output_type": "stream",
     "text": [
      "val accuracy 0.025\n",
      "val accuracy 0.025\n",
      "val accuracy 0.032\n",
      "val accuracy 0.031\n",
      "val accuracy 0.022\n",
      "val accuracy 0.033\n",
      "val accuracy 0.021\n",
      "val accuracy 0.025\n",
      "val accuracy 0.018\n",
      "val accuracy 0.027\n"
     ]
    }
   ],
   "source": [
    "print('val accuracy %g' % accuracy.eval(session=sess, feed_dict={ X: val_data.images[:1000], Y: val_data.labels[:1000], keep_prob: 1.0}))\n",
    "for i in range(9):\n",
    "    print('val accuracy %g' % accuracy.eval(session=sess, feed_dict={ X: val_data.images[ i*1000 : (i+1)*1000 ], Y: val_data.labels[ i*1000:(i+1)*1000], keep_prob: 1.0}))"
   ]
  },
  {
   "cell_type": "code",
   "execution_count": 83,
   "metadata": {},
   "outputs": [
    {
     "data": {
      "image/png": "[encoded data removed]",
      "text/plain": [
       "<matplotlib.figure.Figure at 0x7fbc2c7b3390>"
      ]
     },
     "metadata": {},
     "output_type": "display_data"
    }
   ],
   "source": [
    "plt.plot(train_acc, color='g')\n",
    "plt.plot(val_acc  , color='r')\n",
    "plt.show()"
   ]
  },
  {
   "cell_type": "code",
   "execution_count": 82,
   "metadata": {},
   "outputs": [],
   "source": [
    "sess.close()"
   ]
  },
  {
   "cell_type": "code",
   "execution_count": null,
   "metadata": {},
   "outputs": [],
   "source": []
  }
 ],
 "metadata": {
  "colab": {
   "collapsed_sections": [],
   "default_view": {},
   "name": "COGS181-Final.ipynb",
   "provenance": [],
   "version": "0.3.2",
   "views": {}
  },
  "kernelspec": {
   "display_name": "Python 2",
   "language": "python",
   "name": "python2"
  },
  "language_info": {
   "codemirror_mode": {
    "name": "ipython",
    "version": 2
   },
   "file_extension": ".py",
   "mimetype": "text/x-python",
   "name": "python",
   "nbconvert_exporter": "python",
   "pygments_lexer": "ipython2",
   "version": "2.7.14"
  }
 },
 "nbformat": 4,
 "nbformat_minor": 1
}
