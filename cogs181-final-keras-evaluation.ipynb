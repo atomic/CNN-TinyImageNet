{
 "cells": [
  {
   "cell_type": "code",
   "execution_count": 1,
   "metadata": {},
   "outputs": [
    {
     "name": "stderr",
     "output_type": "stream",
     "text": [
      "Using TensorFlow backend.\n"
     ]
    }
   ],
   "source": [
    "from __future__ import print_function\n",
    "import keras\n",
    "from keras.datasets import cifar10\n",
    "from keras.preprocessing.image import ImageDataGenerator, array_to_img, img_to_array, load_img\n",
    "from keras.models import Sequential\n",
    "from keras.layers import Dense, Dropout, Activation, Flatten\n",
    "from keras.layers import Conv2D, MaxPooling2D\n",
    "from keras.layers import Convolution2D, MaxPooling2D\n",
    "from keras.optimizers import SGD\n",
    "import os\n",
    "import math\n",
    "import numpy as np\n",
    "import scipy\n",
    "import random\n",
    "from PIL import Image\n",
    "import cv2\n",
    "from matplotlib import pyplot as plt\n",
    "from tensorflow.contrib.learn.python.learn.datasets.mnist import DataSet\n",
    "import datetime"
   ]
  },
  {
   "cell_type": "code",
   "execution_count": 2,
   "metadata": {},
   "outputs": [],
   "source": [
    "import glob\n",
    "\n",
    "path = \"/tmp/tiny-imagenet-200/\"\n",
    "train_dirs = glob.glob(path + \"train/*\")\n",
    "val_dirs   = glob.glob(path + \"val/*\")\n",
    "test_dirs  = glob.glob(path + \"test/*\")\n",
    "\n",
    "# There are only 200 used labels in both training and validation\n",
    "used_labels =  [ d[-9:] for d in train_dirs ]\n",
    "len(used_labels)\n",
    "\n",
    "# Hot-Encode Labels\n",
    "from sklearn.preprocessing import LabelBinarizer\n",
    "bin_encoder = LabelBinarizer()\n",
    "bin_encoder.fit_transform(used_labels).size\n",
    "\n",
    "# Helper Functions\n",
    "def get_image(img_path):\n",
    "#     img = img_to_array(load_img(img_path))\n",
    "    img = cv2.imread(img_path, cv2.CV_LOAD_IMAGE_COLOR)\n",
    "    return img / 255.0\n",
    "\n",
    "def get_images(paths):\n",
    "    n = len(paths)\n",
    "    X = np.empty(shape=(n, 64,64,3))\n",
    "    for i,p in enumerate(paths):\n",
    "        img = cv2.imread(p, cv2.CV_LOAD_IMAGE_COLOR) / 255.0\n",
    "        X[i, ...] = img\n",
    "    return X\n",
    "\n",
    "def shuffle(*args):\n",
    "    fusion = list(zip(*args))\n",
    "    np.random.shuffle(fusion)\n",
    "    return zip(*fusion)"
   ]
  },
  {
   "cell_type": "markdown",
   "metadata": {},
   "source": [
    "### Getting Validation Data"
   ]
  },
  {
   "cell_type": "code",
   "execution_count": 3,
   "metadata": {},
   "outputs": [
    {
     "name": "stdout",
     "output_type": "stream",
     "text": [
      "10000 10000\n",
      "(64, 64, 3) (10000, 200)\n"
     ]
    }
   ],
   "source": [
    "val_labels, val_images = [], []\n",
    "\n",
    "for line in open(path + 'val/val_annotations.txt'):\n",
    "    [fn, classname, _ , _, _, _ ] = line.strip().split('\\t')\n",
    "\n",
    "    img = get_image(path +'val/images/' + fn )     # validation does not need shuffling\n",
    "    val_labels.append(classname)                   # 10K images probably fit in RAM\n",
    "    val_images.append(img)\n",
    "\n",
    "val_images = np.array(val_images)\n",
    "# hot-encode labels from string to number\n",
    "val_labels = bin_encoder.transform(val_labels)\n",
    "\n",
    "print(len(val_images), len(val_labels)) \n",
    "print(val_images[0].shape, val_labels.shape)   # sanity check"
   ]
  },
  {
   "cell_type": "markdown",
   "metadata": {},
   "source": [
    "### Model Evaluation"
   ]
  },
  {
   "cell_type": "code",
   "execution_count": 4,
   "metadata": {},
   "outputs": [],
   "source": [
    "import h5py as h5py\n",
    "from keras.models import load_model"
   ]
  },
  {
   "cell_type": "code",
   "execution_count": 5,
   "metadata": {},
   "outputs": [
    {
     "name": "stdout",
     "output_type": "stream",
     "text": [
      "_________________________________________________________________\n",
      "Layer (type)                 Output Shape              Param #   \n",
      "=================================================================\n",
      "conv2d_16 (Conv2D)           (None, 64, 64, 16)        448       \n",
      "_________________________________________________________________\n",
      "activation_22 (Activation)   (None, 64, 64, 16)        0         \n",
      "_________________________________________________________________\n",
      "max_pooling2d_16 (MaxPooling (None, 32, 32, 16)        0         \n",
      "_________________________________________________________________\n",
      "conv2d_17 (Conv2D)           (None, 32, 32, 16)        2320      \n",
      "_________________________________________________________________\n",
      "activation_23 (Activation)   (None, 32, 32, 16)        0         \n",
      "_________________________________________________________________\n",
      "max_pooling2d_17 (MaxPooling (None, 16, 16, 16)        0         \n",
      "_________________________________________________________________\n",
      "conv2d_18 (Conv2D)           (None, 16, 16, 32)        4640      \n",
      "_________________________________________________________________\n",
      "activation_24 (Activation)   (None, 16, 16, 32)        0         \n",
      "_________________________________________________________________\n",
      "max_pooling2d_18 (MaxPooling (None, 8, 8, 32)          0         \n",
      "_________________________________________________________________\n",
      "conv2d_19 (Conv2D)           (None, 8, 8, 32)          9248      \n",
      "_________________________________________________________________\n",
      "activation_25 (Activation)   (None, 8, 8, 32)          0         \n",
      "_________________________________________________________________\n",
      "max_pooling2d_19 (MaxPooling (None, 4, 4, 32)          0         \n",
      "_________________________________________________________________\n",
      "conv2d_20 (Conv2D)           (None, 4, 4, 32)          9248      \n",
      "_________________________________________________________________\n",
      "activation_26 (Activation)   (None, 4, 4, 32)          0         \n",
      "_________________________________________________________________\n",
      "max_pooling2d_20 (MaxPooling (None, 2, 2, 32)          0         \n",
      "_________________________________________________________________\n",
      "flatten_4 (Flatten)          (None, 128)               0         \n",
      "_________________________________________________________________\n",
      "dense_7 (Dense)              (None, 2048)              264192    \n",
      "_________________________________________________________________\n",
      "activation_27 (Activation)   (None, 2048)              0         \n",
      "_________________________________________________________________\n",
      "dense_8 (Dense)              (None, 200)               409800    \n",
      "_________________________________________________________________\n",
      "activation_28 (Activation)   (None, 200)               0         \n",
      "=================================================================\n",
      "Total params: 699,896\n",
      "Trainable params: 699,896\n",
      "Non-trainable params: 0\n",
      "_________________________________________________________________\n"
     ]
    }
   ],
   "source": [
    "model = load_model('models/model_Wed_22_54.h5')\n",
    "model.summary()"
   ]
  },
  {
   "cell_type": "code",
   "execution_count": 6,
   "metadata": {},
   "outputs": [
    {
     "name": "stdout",
     "output_type": "stream",
     "text": [
      "['loss', 'acc']\n",
      " 9888/10000 [============================>.] - ETA: 0s"
     ]
    },
    {
     "data": {
      "text/plain": [
       "[7.6350520240783695, 0.14419999999999999]"
      ]
     },
     "execution_count": 6,
     "metadata": {},
     "output_type": "execute_result"
    }
   ],
   "source": [
    "print(model.metrics_names)\n",
    "model.evaluate(np.array(val_images), val_labels)"
   ]
  },
  {
   "cell_type": "code",
   "execution_count": 20,
   "metadata": {},
   "outputs": [
    {
     "data": {
      "image/png": "[encoded data removed]",
      "text/plain": [
       "<matplotlib.figure.Figure at 0x7f466c574550>"
      ]
     },
     "metadata": {},
     "output_type": "display_data"
    }
   ],
   "source": [
    "plt.imshow(val_images[12])\n",
    "plt.show()"
   ]
  },
  {
   "cell_type": "code",
   "execution_count": null,
   "metadata": {},
   "outputs": [],
   "source": []
  }
 ],
 "metadata": {
  "kernelspec": {
   "display_name": "Python 2",
   "language": "python",
   "name": "python2"
  },
  "language_info": {
   "codemirror_mode": {
    "name": "ipython",
    "version": 2
   },
   "file_extension": ".py",
   "mimetype": "text/x-python",
   "name": "python",
   "nbconvert_exporter": "python",
   "pygments_lexer": "ipython2",
   "version": "2.7.14"
  }
 },
 "nbformat": 4,
 "nbformat_minor": 2
}
